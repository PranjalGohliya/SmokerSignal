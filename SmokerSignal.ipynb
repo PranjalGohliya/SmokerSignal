{
 "cells": [
  {
   "cell_type": "markdown",
   "metadata": {},
   "source": [
    "Importing libraries"
   ]
  },
  {
   "cell_type": "code",
   "execution_count": 1,
   "metadata": {},
   "outputs": [],
   "source": [
    "import pandas as pd\n",
    "import numpy as np\n",
    "import matplotlib.pyplot as plt\n",
    "import seaborn as sns\n",
    "\n",
    "from sklearn.ensemble import RandomForestClassifier\n",
    "from sklearn.model_selection import train_test_split, GridSearchCV\n",
    "from sklearn.preprocessing import StandardScaler, LabelEncoder\n",
    "from sklearn.metrics import accuracy_score, classification_report, roc_auc_score, confusion_matrix"
   ]
  },
  {
   "cell_type": "markdown",
   "metadata": {},
   "source": [
    "Loading Dataset"
   ]
  },
  {
   "cell_type": "code",
   "execution_count": 2,
   "metadata": {},
   "outputs": [],
   "source": [
    "df = pd.read_csv('smoking.csv')"
   ]
  },
  {
   "cell_type": "code",
   "execution_count": 3,
   "metadata": {},
   "outputs": [
    {
     "name": "stdout",
     "output_type": "stream",
     "text": [
      "<class 'pandas.core.frame.DataFrame'>\n",
      "RangeIndex: 55692 entries, 0 to 55691\n",
      "Data columns (total 27 columns):\n",
      " #   Column               Non-Null Count  Dtype  \n",
      "---  ------               --------------  -----  \n",
      " 0   ID                   55692 non-null  int64  \n",
      " 1   gender               55692 non-null  object \n",
      " 2   age                  55692 non-null  int64  \n",
      " 3   height(cm)           55692 non-null  int64  \n",
      " 4   weight(kg)           55692 non-null  int64  \n",
      " 5   waist(cm)            55692 non-null  float64\n",
      " 6   eyesight(left)       55692 non-null  float64\n",
      " 7   eyesight(right)      55692 non-null  float64\n",
      " 8   hearing(left)        55692 non-null  float64\n",
      " 9   hearing(right)       55692 non-null  float64\n",
      " 10  systolic             55692 non-null  float64\n",
      " 11  relaxation           55692 non-null  float64\n",
      " 12  fasting blood sugar  55692 non-null  float64\n",
      " 13  Cholesterol          55692 non-null  float64\n",
      " 14  triglyceride         55692 non-null  float64\n",
      " 15  HDL                  55692 non-null  float64\n",
      " 16  LDL                  55692 non-null  float64\n",
      " 17  hemoglobin           55692 non-null  float64\n",
      " 18  Urine protein        55692 non-null  float64\n",
      " 19  serum creatinine     55692 non-null  float64\n",
      " 20  AST                  55692 non-null  float64\n",
      " 21  ALT                  55692 non-null  float64\n",
      " 22  Gtp                  55692 non-null  float64\n",
      " 23  oral                 55692 non-null  object \n",
      " 24  dental caries        55692 non-null  int64  \n",
      " 25  tartar               55692 non-null  object \n",
      " 26  smoking              55692 non-null  int64  \n",
      "dtypes: float64(18), int64(6), object(3)\n",
      "memory usage: 11.5+ MB\n",
      "None\n",
      "                 ID           age    height(cm)    weight(kg)     waist(cm)  \\\n",
      "count  55692.000000  55692.000000  55692.000000  55692.000000  55692.000000   \n",
      "mean   27845.500000     44.182917    164.649321     65.864936     82.046418   \n",
      "std    16077.039933     12.071418      9.194597     12.820306      9.274223   \n",
      "min        0.000000     20.000000    130.000000     30.000000     51.000000   \n",
      "25%    13922.750000     40.000000    160.000000     55.000000     76.000000   \n",
      "50%    27845.500000     40.000000    165.000000     65.000000     82.000000   \n",
      "75%    41768.250000     55.000000    170.000000     75.000000     88.000000   \n",
      "max    55691.000000     85.000000    190.000000    135.000000    129.000000   \n",
      "\n",
      "       eyesight(left)  eyesight(right)  hearing(left)  hearing(right)  \\\n",
      "count    55692.000000     55692.000000   55692.000000    55692.000000   \n",
      "mean         1.012623         1.007443       1.025587        1.026144   \n",
      "std          0.486873         0.485964       0.157902        0.159564   \n",
      "min          0.100000         0.100000       1.000000        1.000000   \n",
      "25%          0.800000         0.800000       1.000000        1.000000   \n",
      "50%          1.000000         1.000000       1.000000        1.000000   \n",
      "75%          1.200000         1.200000       1.000000        1.000000   \n",
      "max          9.900000         9.900000       2.000000        2.000000   \n",
      "\n",
      "           systolic  ...           HDL           LDL    hemoglobin  \\\n",
      "count  55692.000000  ...  55692.000000  55692.000000  55692.000000   \n",
      "mean     121.494218  ...     57.290347    114.964501     14.622592   \n",
      "std       13.675989  ...     14.738963     40.926476      1.564498   \n",
      "min       71.000000  ...      4.000000      1.000000      4.900000   \n",
      "25%      112.000000  ...     47.000000     92.000000     13.600000   \n",
      "50%      120.000000  ...     55.000000    113.000000     14.800000   \n",
      "75%      130.000000  ...     66.000000    136.000000     15.800000   \n",
      "max      240.000000  ...    618.000000   1860.000000     21.100000   \n",
      "\n",
      "       Urine protein  serum creatinine           AST           ALT  \\\n",
      "count   55692.000000      55692.000000  55692.000000  55692.000000   \n",
      "mean        1.087212          0.885738     26.182935     27.036037   \n",
      "std         0.404882          0.221524     19.355460     30.947853   \n",
      "min         1.000000          0.100000      6.000000      1.000000   \n",
      "25%         1.000000          0.800000     19.000000     15.000000   \n",
      "50%         1.000000          0.900000     23.000000     21.000000   \n",
      "75%         1.000000          1.000000     28.000000     31.000000   \n",
      "max         6.000000         11.600000   1311.000000   2914.000000   \n",
      "\n",
      "                Gtp  dental caries       smoking  \n",
      "count  55692.000000   55692.000000  55692.000000  \n",
      "mean      39.952201       0.213334      0.367288  \n",
      "std       50.290539       0.409665      0.482070  \n",
      "min        1.000000       0.000000      0.000000  \n",
      "25%       17.000000       0.000000      0.000000  \n",
      "50%       25.000000       0.000000      0.000000  \n",
      "75%       43.000000       0.000000      1.000000  \n",
      "max      999.000000       1.000000      1.000000  \n",
      "\n",
      "[8 rows x 24 columns]\n",
      "   ID gender  age  height(cm)  weight(kg)  waist(cm)  eyesight(left)  \\\n",
      "0   0      F   40         155          60       81.3             1.2   \n",
      "1   1      F   40         160          60       81.0             0.8   \n",
      "2   2      M   55         170          60       80.0             0.8   \n",
      "3   3      M   40         165          70       88.0             1.5   \n",
      "4   4      F   40         155          60       86.0             1.0   \n",
      "\n",
      "   eyesight(right)  hearing(left)  hearing(right)  ...  hemoglobin  \\\n",
      "0              1.0            1.0             1.0  ...        12.9   \n",
      "1              0.6            1.0             1.0  ...        12.7   \n",
      "2              0.8            1.0             1.0  ...        15.8   \n",
      "3              1.5            1.0             1.0  ...        14.7   \n",
      "4              1.0            1.0             1.0  ...        12.5   \n",
      "\n",
      "   Urine protein  serum creatinine   AST   ALT   Gtp  oral  dental caries  \\\n",
      "0            1.0               0.7  18.0  19.0  27.0     Y              0   \n",
      "1            1.0               0.6  22.0  19.0  18.0     Y              0   \n",
      "2            1.0               1.0  21.0  16.0  22.0     Y              0   \n",
      "3            1.0               1.0  19.0  26.0  18.0     Y              0   \n",
      "4            1.0               0.6  16.0  14.0  22.0     Y              0   \n",
      "\n",
      "   tartar  smoking  \n",
      "0       Y        0  \n",
      "1       Y        0  \n",
      "2       N        1  \n",
      "3       Y        0  \n",
      "4       N        0  \n",
      "\n",
      "[5 rows x 27 columns]\n"
     ]
    }
   ],
   "source": [
    "print(df.info())\n",
    "print(df.describe())\n",
    "print(df.head())"
   ]
  },
  {
   "cell_type": "markdown",
   "metadata": {},
   "source": [
    "Handling missing values"
   ]
  },
  {
   "cell_type": "code",
   "execution_count": 9,
   "metadata": {},
   "outputs": [],
   "source": [
    "df = df.dropna()\n",
    "\n",
    "label_encoder = LabelEncoder()\n",
    "df['gender'] = label_encoder.fit_transform(df['gender'])"
   ]
  },
  {
   "cell_type": "markdown",
   "metadata": {},
   "source": [
    "Feature & Target separation"
   ]
  },
  {
   "cell_type": "code",
   "execution_count": 6,
   "metadata": {},
   "outputs": [],
   "source": [
    "X = df.drop(columns=['ID', 'smoking'])\n",
    "y = df['smoking']"
   ]
  },
  {
   "cell_type": "markdown",
   "metadata": {},
   "source": [
    "Splitting data into Training & Testing Sets"
   ]
  },
  {
   "cell_type": "code",
   "execution_count": 7,
   "metadata": {},
   "outputs": [],
   "source": [
    "X_train, X_test, y_train, y_test = train_test_split(X, y, test_size=0.2, random_state=42)"
   ]
  },
  {
   "cell_type": "markdown",
   "metadata": {},
   "source": [
    "Feature scaling"
   ]
  },
  {
   "cell_type": "markdown",
   "metadata": {},
   "source": [
    "Training the Model"
   ]
  },
  {
   "cell_type": "code",
   "execution_count": null,
   "metadata": {},
   "outputs": [],
   "source": [
    "scaler = StandardScaler()\n",
    "X_train = scaler.fit_transform(X_train)\n",
    "X_test = scaler.transform(X_test)"
   ]
  },
  {
   "cell_type": "code",
   "execution_count": null,
   "metadata": {},
   "outputs": [],
   "source": [
    "rf_model = RandomForestClassifier(random_state=42)\n",
    "\n",
    "rf_model.fit(X_train, y_train)"
   ]
  },
  {
   "cell_type": "markdown",
   "metadata": {},
   "source": [
    "Model Evaluation"
   ]
  },
  {
   "cell_type": "code",
   "execution_count": null,
   "metadata": {},
   "outputs": [],
   "source": [
    "y_pred =rf_model.predict(X_test)\n",
    "accuracy = accuracy_score(y_test, )"
   ]
  }
 ],
 "metadata": {
  "kernelspec": {
   "display_name": "Python 3",
   "language": "python",
   "name": "python3"
  },
  "language_info": {
   "codemirror_mode": {
    "name": "ipython",
    "version": 3
   },
   "file_extension": ".py",
   "mimetype": "text/x-python",
   "name": "python",
   "nbconvert_exporter": "python",
   "pygments_lexer": "ipython3",
   "version": "3.10.0"
  }
 },
 "nbformat": 4,
 "nbformat_minor": 2
}
